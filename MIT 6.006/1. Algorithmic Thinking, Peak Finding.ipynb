{
 "cells": [
  {
   "cell_type": "markdown",
   "metadata": {},
   "source": [
    "# Peak Finding 1D"
   ]
  },
  {
   "cell_type": "markdown",
   "metadata": {},
   "source": [
    "### 1. Naive traversal - $O(n)$ "
   ]
  },
  {
   "cell_type": "code",
   "execution_count": 1,
   "metadata": {},
   "outputs": [],
   "source": [
    "def naive1DPeak(a):\n",
    "    assert len(a) > 0\n",
    "    if (len(a) == 1):\n",
    "        return a[0]\n",
    "    for i in range(len(a)):\n",
    "        if (i == 0 and a[i] >= a[i + 1] or\\\n",
    "            i == len(a) - 1 and a[i] >= a[i - 1] or\\\n",
    "            a[i] >= a[i - 1] and a[i] >= a[i + 1]):\n",
    "            return a[i]"
   ]
  },
  {
   "cell_type": "markdown",
   "metadata": {},
   "source": [
    "### 2. Divide and conquer - $O(lg(n))$"
   ]
  },
  {
   "cell_type": "code",
   "execution_count": 2,
   "metadata": {},
   "outputs": [],
   "source": [
    "def divideAndConquer1DPeak(a):\n",
    "    assert len(a) > 0\n",
    "    middle = len(a)//2\n",
    "    if (middle > 0 and a[middle] < a[middle - 1]):\n",
    "        # search left\n",
    "        return divideAndConquer1DPeak(a[:middle])\n",
    "    elif (middle < len(a) - 1 and a[middle] < a[middle + 1]):\n",
    "        # search right\n",
    "        return divideAndConquer1DPeak(a[middle + 1:])\n",
    "    else:\n",
    "        return a[middle]"
   ]
  },
  {
   "cell_type": "markdown",
   "metadata": {},
   "source": [
    "### Tests"
   ]
  },
  {
   "cell_type": "code",
   "execution_count": 3,
   "metadata": {},
   "outputs": [],
   "source": [
    "# only one peak in tests\n",
    "tests1D = [\n",
    "    [[0], 0],\n",
    "    [[0, 1], 1],\n",
    "    [[0, 1, 2], 2],\n",
    "    [[0, 30, 15, 1, 4], 30],\n",
    "    [[8, 3, 1, 0], 8],\n",
    "    [[1, 1, 1], 1],\n",
    "    [[-5, -3, 8, -1, -3], 8],\n",
    "]\n",
    "\n",
    "def testAlgo1D(algo, tests):\n",
    "    passed = True\n",
    "    for case in tests:\n",
    "        result = algo(case[0])\n",
    "        if (result != case[1]):\n",
    "            passed = False\n",
    "            print(algo.__name__ + \": wrong answer \" + str(result) + \" on input \" + str(case[0]) + \", expected \" + str(case[1]))\n",
    "    print(algo.__name__ + \": \" + (\"passed\" if passed else \"not passed\") + \" tests\")"
   ]
  },
  {
   "cell_type": "code",
   "execution_count": 4,
   "metadata": {},
   "outputs": [
    {
     "name": "stdout",
     "output_type": "stream",
     "text": [
      "naive1DPeak: passed tests\n",
      "divideAndConquer1DPeak: passed tests\n"
     ]
    }
   ],
   "source": [
    "testAlgo1D(naive1DPeak, tests1D)\n",
    "testAlgo1D(divideAndConquer1DPeak, tests1D)"
   ]
  },
  {
   "cell_type": "markdown",
   "metadata": {},
   "source": [
    "# Peak Finding 2D"
   ]
  },
  {
   "cell_type": "markdown",
   "metadata": {},
   "source": [
    "### 1. Greedy accent algorithm - $O(nm)$"
   ]
  },
  {
   "cell_type": "markdown",
   "metadata": {},
   "source": [
    "Has to make choices: where to start, etc"
   ]
  },
  {
   "cell_type": "code",
   "execution_count": 5,
   "metadata": {},
   "outputs": [],
   "source": [
    "def greedy2DPeak(a):\n",
    "    assert len(a) > 0\n",
    "    assert len(a[0]) > 0\n",
    "    \n",
    "    def nextPosition(pos):\n",
    "        # find max neigbor greater than current and return his position\n",
    "        i = pos[0]\n",
    "        j = pos[1]\n",
    "        if (j > 0 and a[i][j - 1] > a[i][j]): # go left\n",
    "            j -= 1\n",
    "        if (i > 0 and a[i - 1][j] > a[i][j]): # go up\n",
    "            i -= 1\n",
    "        if (j < len(a[0]) - 1 and a[i][j + 1] > a[i][j]): # go right\n",
    "            j += 1\n",
    "        if (i < len(a) - 1 and a[i + 1][j] > a[i][j]): # go down\n",
    "            i += 1\n",
    "        return [i, j]\n",
    "        \n",
    "    prevP = [0, 0]\n",
    "    while True:\n",
    "        nextP = nextPosition(prevP)\n",
    "        if (nextP[0] == prevP[0] and nextP[1] == prevP[1]):\n",
    "            return a[nextP[0]][nextP[1]]\n",
    "        else:\n",
    "            prevP = nextP"
   ]
  },
  {
   "cell_type": "markdown",
   "metadata": {},
   "source": [
    "\n",
    "### 2. Divide and conquer 2D - $O(n\\ lg(m))$"
   ]
  },
  {
   "cell_type": "code",
   "execution_count": 6,
   "metadata": {},
   "outputs": [],
   "source": [
    "def divideAndConquer2DPeak(a):\n",
    "    assert len(a) > 0\n",
    "    assert len(a[0]) > 0\n",
    "    \n",
    "    def globalMaxI(column):\n",
    "        maxI = 0\n",
    "        for i in range(len(column)):\n",
    "            if column[i] >= column[maxI]:\n",
    "                maxI = i\n",
    "        return maxI\n",
    "    \n",
    "    def columnAt(j):\n",
    "        res = []\n",
    "        for i in range(len(a)):\n",
    "            res.append(a[i][j])    \n",
    "        return res\n",
    "    \n",
    "    def matrixSliceIncl(j1, j2):\n",
    "        res = []\n",
    "        for i in range(len(a)):\n",
    "            res.append(a[i][j1:j2+1])\n",
    "        return res\n",
    "    \n",
    "    middleJ = len(a[0])//2\n",
    "    gMaxI = globalMaxI(columnAt(middleJ))\n",
    "    if (middleJ > 0 and a[gMaxI][middleJ] < a[gMaxI][middleJ - 1]):\n",
    "        # search left\n",
    "        return divideAndConquer2DPeak(matrixSliceIncl(0, middleJ - 1))\n",
    "    elif (middleJ < len(a[0]) - 1 and a[gMaxI][middleJ] < a[gMaxI][middleJ + 1]):\n",
    "        # search right\n",
    "        return divideAndConquer2DPeak(matrixSliceIncl(middleJ + 1, len(a[0]) - 1))\n",
    "    else:\n",
    "        return a[gMaxI][middleJ]"
   ]
  },
  {
   "cell_type": "markdown",
   "metadata": {},
   "source": [
    "### Tests"
   ]
  },
  {
   "cell_type": "code",
   "execution_count": 7,
   "metadata": {},
   "outputs": [],
   "source": [
    "# only one peak in tests\n",
    "tests2D = [\n",
    "    [\n",
    "        [[0,  1,  2,  3,  4,  5 ],\n",
    "         [6,  7,  8,  9,  10, 11],\n",
    "         [12, 13, 14, 15, 16, 17]], \n",
    "        17\n",
    "    ],\n",
    "    [\n",
    "        [[0,  1,  2,  3,  4,  5 ],\n",
    "         [0,  0,  0,  0,  0,  6 ],\n",
    "         [12, 11, 10, 9,  8,  7 ], \n",
    "         [13, 0,  0,  0,  0,  0 ], \n",
    "         [14, 15, 16, 17, 18, 19], \n",
    "         [0,  0,  0,  0,  0,  20],\n",
    "         [0,  0,  0,  23, 22, 21]],\n",
    "        23\n",
    "    ],\n",
    "    [\n",
    "        [[-7, -3, -1, 3, 0, -1]],\n",
    "        3\n",
    "    ],\n",
    "    [\n",
    "        [[-1],\n",
    "         [0 ],\n",
    "         [12], \n",
    "         [13], \n",
    "         [-5], \n",
    "         [-1],\n",
    "         [0 ]],\n",
    "        13\n",
    "    ],\n",
    "]\n",
    "\n",
    "def testAlgo2D(algo, tests):\n",
    "    passed = True\n",
    "    for case in tests:\n",
    "        result = algo(case[0])\n",
    "        if (result != case[1]):\n",
    "            passed = False\n",
    "            print(algo.__name__ + \": wrong answer \" + str(result) + \" on input \" + str(case[0]) + \", expected \" + str(case[1]))\n",
    "    print(algo.__name__ + \": \" + (\"passed\" if passed else \"not passed\") + \" tests\")"
   ]
  },
  {
   "cell_type": "code",
   "execution_count": 8,
   "metadata": {},
   "outputs": [
    {
     "name": "stdout",
     "output_type": "stream",
     "text": [
      "greedy2DPeak: passed tests\n",
      "divideAndConquer2DPeak: passed tests\n"
     ]
    }
   ],
   "source": [
    "testAlgo2D(greedy2DPeak, tests2D)\n",
    "testAlgo2D(divideAndConquer2DPeak, tests2D)"
   ]
  }
 ],
 "metadata": {
  "kernelspec": {
   "display_name": "Python 3",
   "language": "python",
   "name": "python3"
  },
  "language_info": {
   "codemirror_mode": {
    "name": "ipython",
    "version": 3
   },
   "file_extension": ".py",
   "mimetype": "text/x-python",
   "name": "python",
   "nbconvert_exporter": "python",
   "pygments_lexer": "ipython3",
   "version": "3.8.5"
  }
 },
 "nbformat": 4,
 "nbformat_minor": 4
}
